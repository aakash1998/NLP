{
 "cells": [
  {
   "cell_type": "code",
   "execution_count": 1,
   "id": "144bfb14",
   "metadata": {},
   "outputs": [],
   "source": [
    "import nltk\n",
    "import re\n",
    "from nltk.corpus import stopwords\n",
    "from nltk.stem.porter import PorterStemmer\n",
    "from nltk.stem import WordNetLemmatizer"
   ]
  },
  {
   "cell_type": "code",
   "execution_count": 20,
   "id": "2e633841",
   "metadata": {},
   "outputs": [],
   "source": [
    "para = '''\n",
    "Mr. Aakash Patel is 23 years old. The date is 3rd Feburary 2022. Time is 1PM.\n",
    "By impossible of in difficulty discovered celebrated ye. Justice joy manners boy met resolve produce. Bed head loud next plan rent had easy add him. As earnestly shameless elsewhere defective estimable fulfilled of. Esteem my advice it an excuse enable. Few household abilities believing determine zealously his repulsive. To open draw dear be by side like.\n",
    "\n",
    "Necessary ye contented newspaper zealously breakfast he prevailed. Melancholy middletons yet understood decisively boy law she. Answer him easily are its barton little. Oh no though mother be things simple itself. Dashwood horrible he strictly on as. Home fine in so am good body this hope.\n",
    "\n",
    "Knowledge nay estimable questions repulsive daughters boy. Solicitude gay way unaffected expression for. His mistress ladyship required off horrible disposed rejoiced. Unpleasing pianoforte unreserved as oh he unpleasant no inquietude insipidity. Advantages can discretion possession add favourable cultivated admiration far. Why rather assure how esteem end hunted nearer and before. By an truth after heard going early given he. Charmed to it excited females whether at examine. Him abilities suffering may are yet dependent.\n",
    "\n",
    "Do am he horrible distance marriage so although. Afraid assure square so happen mr an before. His many same been well can high that. Forfeited did law eagerness allowance improving assurance bed. Had saw put seven joy short first. Pronounce so enjoyment my resembled in forfeited sportsman. Which vexed did began son abode short may. Interested astonished he at cultivated or me. Nor brought one invited she produce her.\n",
    "'''"
   ]
  },
  {
   "cell_type": "code",
   "execution_count": 21,
   "id": "5d99cb76",
   "metadata": {},
   "outputs": [],
   "source": [
    "#Cleaning the paragraph\n",
    "ps = PorterStemmer()\n",
    "wordnet = WordNetLemmatizer()\n",
    "sentences = nltk.sent_tokenize(para)\n",
    "corpus = []"
   ]
  },
  {
   "cell_type": "code",
   "execution_count": 22,
   "id": "668eecef",
   "metadata": {},
   "outputs": [],
   "source": [
    "for i in range(len(sentences)):\n",
    "    review = re.sub('[^a-zA-Z0-9]' , ' ' , sentences[i])\n",
    "    review = review.lower()\n",
    "    review = review.split()\n",
    "    review = [wordnet.lemmatize(word) for word in review if word not in set(stopwords.words('english'))]\n",
    "    review = ' '.join(review)\n",
    "    corpus.append(review)"
   ]
  },
  {
   "cell_type": "code",
   "execution_count": 23,
   "id": "0ba84273",
   "metadata": {},
   "outputs": [
    {
     "data": {
      "text/plain": [
       "['mr aakash patel 23 year old',\n",
       " 'date 3rd feburary 2022',\n",
       " 'time 1pm',\n",
       " 'impossible difficulty discovered celebrated ye',\n",
       " 'justice joy manner boy met resolve produce',\n",
       " 'bed head loud next plan rent easy add',\n",
       " 'earnestly shameless elsewhere defective estimable fulfilled',\n",
       " 'esteem advice excuse enable',\n",
       " 'household ability believing determine zealously repulsive',\n",
       " 'open draw dear side like',\n",
       " 'necessary ye contented newspaper zealously breakfast prevailed',\n",
       " 'melancholy middleton yet understood decisively boy law',\n",
       " 'answer easily barton little',\n",
       " 'oh though mother thing simple',\n",
       " 'dashwood horrible strictly',\n",
       " 'home fine good body hope',\n",
       " 'knowledge nay estimable question repulsive daughter boy',\n",
       " 'solicitude gay way unaffected expression',\n",
       " 'mistress ladyship required horrible disposed rejoiced',\n",
       " 'unpleasing pianoforte unreserved oh unpleasant inquietude insipidity',\n",
       " 'advantage discretion possession add favourable cultivated admiration far',\n",
       " 'rather assure esteem end hunted nearer',\n",
       " 'truth heard going early given',\n",
       " 'charmed excited female whether examine',\n",
       " 'ability suffering may yet dependent',\n",
       " 'horrible distance marriage although',\n",
       " 'afraid assure square happen mr',\n",
       " 'many well high',\n",
       " 'forfeited law eagerness allowance improving assurance bed',\n",
       " 'saw put seven joy short first',\n",
       " 'pronounce enjoyment resembled forfeited sportsman',\n",
       " 'vexed began son abode short may',\n",
       " 'interested astonished cultivated',\n",
       " 'brought one invited produce']"
      ]
     },
     "execution_count": 23,
     "metadata": {},
     "output_type": "execute_result"
    }
   ],
   "source": [
    "corpus"
   ]
  },
  {
   "cell_type": "code",
   "execution_count": 24,
   "id": "d6b0e98c",
   "metadata": {},
   "outputs": [],
   "source": [
    "#Creating the bag of words model \n",
    "from sklearn.feature_extraction.text import CountVectorizer\n",
    "cv = CountVectorizer()\n",
    "X = cv.fit_transform(corpus).toarray()"
   ]
  },
  {
   "cell_type": "code",
   "execution_count": 25,
   "id": "d1ccd997",
   "metadata": {},
   "outputs": [
    {
     "data": {
      "text/plain": [
       "array([[0, 0, 1, ..., 1, 0, 0],\n",
       "       [0, 1, 0, ..., 0, 0, 0],\n",
       "       [1, 0, 0, ..., 0, 0, 0],\n",
       "       ...,\n",
       "       [0, 0, 0, ..., 0, 0, 0],\n",
       "       [0, 0, 0, ..., 0, 0, 0],\n",
       "       [0, 0, 0, ..., 0, 0, 0]])"
      ]
     },
     "execution_count": 25,
     "metadata": {},
     "output_type": "execute_result"
    }
   ],
   "source": [
    "X"
   ]
  },
  {
   "cell_type": "code",
   "execution_count": null,
   "id": "eb29e91f",
   "metadata": {},
   "outputs": [],
   "source": []
  }
 ],
 "metadata": {
  "kernelspec": {
   "display_name": "Python 3 (ipykernel)",
   "language": "python",
   "name": "python3"
  },
  "language_info": {
   "codemirror_mode": {
    "name": "ipython",
    "version": 3
   },
   "file_extension": ".py",
   "mimetype": "text/x-python",
   "name": "python",
   "nbconvert_exporter": "python",
   "pygments_lexer": "ipython3",
   "version": "3.9.7"
  }
 },
 "nbformat": 4,
 "nbformat_minor": 5
}
