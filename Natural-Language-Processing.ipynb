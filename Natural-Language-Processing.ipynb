{
 "cells": [
  {
   "cell_type": "markdown",
   "id": "8a309cb4",
   "metadata": {},
   "source": [
    "# Tokenization"
   ]
  },
  {
   "cell_type": "code",
   "execution_count": 1,
   "id": "d8c70691",
   "metadata": {},
   "outputs": [],
   "source": [
    "import nltk"
   ]
  },
  {
   "cell_type": "code",
   "execution_count": 2,
   "id": "b324fe73",
   "metadata": {},
   "outputs": [
    {
     "name": "stdout",
     "output_type": "stream",
     "text": [
      "showing info https://raw.githubusercontent.com/nltk/nltk_data/gh-pages/index.xml\n"
     ]
    },
    {
     "data": {
      "text/plain": [
       "True"
      ]
     },
     "execution_count": 2,
     "metadata": {},
     "output_type": "execute_result"
    }
   ],
   "source": [
    "nltk.download()"
   ]
  },
  {
   "cell_type": "code",
   "execution_count": 3,
   "id": "ab575f6a",
   "metadata": {},
   "outputs": [
    {
     "name": "stderr",
     "output_type": "stream",
     "text": [
      "[nltk_data] Downloading package punkt to\n",
      "[nltk_data]     /Users/aakashpatel/nltk_data...\n",
      "[nltk_data]   Package punkt is already up-to-date!\n"
     ]
    },
    {
     "data": {
      "text/plain": [
       "True"
      ]
     },
     "execution_count": 3,
     "metadata": {},
     "output_type": "execute_result"
    }
   ],
   "source": [
    "nltk.download('punkt')"
   ]
  },
  {
   "cell_type": "code",
   "execution_count": 4,
   "id": "9690d0d2",
   "metadata": {},
   "outputs": [
    {
     "data": {
      "application/javascript": [
       "IPython.OutputArea.prototype._should_scroll = function(lines) {\n",
       "    return false;\n",
       "}\n"
      ],
      "text/plain": [
       "<IPython.core.display.Javascript object>"
      ]
     },
     "metadata": {},
     "output_type": "display_data"
    }
   ],
   "source": [
    "%%javascript\n",
    "IPython.OutputArea.prototype._should_scroll = function(lines) {\n",
    "    return false;\n",
    "}"
   ]
  },
  {
   "cell_type": "code",
   "execution_count": 16,
   "id": "0a92613e",
   "metadata": {},
   "outputs": [],
   "source": [
    "paragraph = '''Hello Rutgers!  (Applause.)  R-U rah-rah!  (Applause.)  Thank you so much.  Thank you.  Everybody, please have a seat.  Thank you, President Barchi, for that introduction. Let me congratulate my extraordinarily worthy fellow honorary Scarlet Knights, Dr. Burnell and Bill Moyers.  \n",
    "\n",
    "Matthew, good job.  (Applause.)  If you are interested, we can talk after this.  (Applause.)        \n",
    "\n",
    "One of the perks of my job is honorary degrees.  (Laughter.) But I have to tell you, it impresses nobody in my house.  (Laughter.)  Now Malia and Sasha just say, “Okay, Dr. Dad, we’ll see you later.  Can we have some money?”  (Laughter.)   '''"
   ]
  },
  {
   "cell_type": "code",
   "execution_count": 17,
   "id": "54ae38d8",
   "metadata": {},
   "outputs": [],
   "source": [
    "sentences = nltk.sent_tokenize(paragraph)"
   ]
  },
  {
   "cell_type": "code",
   "execution_count": 18,
   "id": "1f5de85e",
   "metadata": {},
   "outputs": [
    {
     "data": {
      "text/plain": [
       "['Hello Rutgers!',\n",
       " '(Applause.)',\n",
       " 'R-U rah-rah!',\n",
       " '(Applause.)',\n",
       " 'Thank you so much.',\n",
       " 'Thank you.',\n",
       " 'Everybody, please have a seat.',\n",
       " 'Thank you, President Barchi, for that introduction.',\n",
       " 'Let me congratulate my extraordinarily worthy fellow honorary Scarlet Knights, Dr. Burnell and Bill Moyers.',\n",
       " 'Matthew, good job.',\n",
       " '(Applause.)',\n",
       " 'If you are interested, we can talk after this.',\n",
       " '(Applause.)',\n",
       " 'One of the perks of my job is honorary degrees.',\n",
       " '(Laughter.)',\n",
       " 'But I have to tell you, it impresses nobody in my house.',\n",
       " '(Laughter.)',\n",
       " 'Now Malia and Sasha just say, “Okay, Dr. Dad, we’ll see you later.',\n",
       " 'Can we have some money?”  (Laughter.)']"
      ]
     },
     "execution_count": 18,
     "metadata": {},
     "output_type": "execute_result"
    }
   ],
   "source": [
    "sentences"
   ]
  },
  {
   "cell_type": "code",
   "execution_count": 19,
   "id": "74a46cc3",
   "metadata": {},
   "outputs": [],
   "source": [
    "words = nltk.word_tokenize(paragraph)"
   ]
  },
  {
   "cell_type": "code",
   "execution_count": 20,
   "id": "68e97efe",
   "metadata": {},
   "outputs": [
    {
     "data": {
      "text/plain": [
       "['Hello',\n",
       " 'Rutgers',\n",
       " '!',\n",
       " '(',\n",
       " 'Applause',\n",
       " '.',\n",
       " ')',\n",
       " 'R-U',\n",
       " 'rah-rah',\n",
       " '!',\n",
       " '(',\n",
       " 'Applause',\n",
       " '.',\n",
       " ')',\n",
       " 'Thank',\n",
       " 'you',\n",
       " 'so',\n",
       " 'much',\n",
       " '.',\n",
       " 'Thank',\n",
       " 'you',\n",
       " '.',\n",
       " 'Everybody',\n",
       " ',',\n",
       " 'please',\n",
       " 'have',\n",
       " 'a',\n",
       " 'seat',\n",
       " '.',\n",
       " 'Thank',\n",
       " 'you',\n",
       " ',',\n",
       " 'President',\n",
       " 'Barchi',\n",
       " ',',\n",
       " 'for',\n",
       " 'that',\n",
       " 'introduction',\n",
       " '.',\n",
       " 'Let',\n",
       " 'me',\n",
       " 'congratulate',\n",
       " 'my',\n",
       " 'extraordinarily',\n",
       " 'worthy',\n",
       " 'fellow',\n",
       " 'honorary',\n",
       " 'Scarlet',\n",
       " 'Knights',\n",
       " ',',\n",
       " 'Dr.',\n",
       " 'Burnell',\n",
       " 'and',\n",
       " 'Bill',\n",
       " 'Moyers',\n",
       " '.',\n",
       " 'Matthew',\n",
       " ',',\n",
       " 'good',\n",
       " 'job',\n",
       " '.',\n",
       " '(',\n",
       " 'Applause',\n",
       " '.',\n",
       " ')',\n",
       " 'If',\n",
       " 'you',\n",
       " 'are',\n",
       " 'interested',\n",
       " ',',\n",
       " 'we',\n",
       " 'can',\n",
       " 'talk',\n",
       " 'after',\n",
       " 'this',\n",
       " '.',\n",
       " '(',\n",
       " 'Applause',\n",
       " '.',\n",
       " ')',\n",
       " 'One',\n",
       " 'of',\n",
       " 'the',\n",
       " 'perks',\n",
       " 'of',\n",
       " 'my',\n",
       " 'job',\n",
       " 'is',\n",
       " 'honorary',\n",
       " 'degrees',\n",
       " '.',\n",
       " '(',\n",
       " 'Laughter',\n",
       " '.',\n",
       " ')',\n",
       " 'But',\n",
       " 'I',\n",
       " 'have',\n",
       " 'to',\n",
       " 'tell',\n",
       " 'you',\n",
       " ',',\n",
       " 'it',\n",
       " 'impresses',\n",
       " 'nobody',\n",
       " 'in',\n",
       " 'my',\n",
       " 'house',\n",
       " '.',\n",
       " '(',\n",
       " 'Laughter',\n",
       " '.',\n",
       " ')',\n",
       " 'Now',\n",
       " 'Malia',\n",
       " 'and',\n",
       " 'Sasha',\n",
       " 'just',\n",
       " 'say',\n",
       " ',',\n",
       " '“',\n",
       " 'Okay',\n",
       " ',',\n",
       " 'Dr.',\n",
       " 'Dad',\n",
       " ',',\n",
       " 'we',\n",
       " '’',\n",
       " 'll',\n",
       " 'see',\n",
       " 'you',\n",
       " 'later',\n",
       " '.',\n",
       " 'Can',\n",
       " 'we',\n",
       " 'have',\n",
       " 'some',\n",
       " 'money',\n",
       " '?',\n",
       " '”',\n",
       " '(',\n",
       " 'Laughter',\n",
       " '.',\n",
       " ')']"
      ]
     },
     "execution_count": 20,
     "metadata": {},
     "output_type": "execute_result"
    }
   ],
   "source": [
    "words"
   ]
  },
  {
   "cell_type": "code",
   "execution_count": 21,
   "id": "9da602ed",
   "metadata": {},
   "outputs": [],
   "source": [
    "words_punct = nltk.wordpunct_tokenize(paragraph)"
   ]
  },
  {
   "cell_type": "code",
   "execution_count": 22,
   "id": "b00ab5b3",
   "metadata": {},
   "outputs": [
    {
     "data": {
      "text/plain": [
       "['Hello',\n",
       " 'Rutgers',\n",
       " '!',\n",
       " '(',\n",
       " 'Applause',\n",
       " '.)',\n",
       " 'R',\n",
       " '-',\n",
       " 'U',\n",
       " 'rah',\n",
       " '-',\n",
       " 'rah',\n",
       " '!',\n",
       " '(',\n",
       " 'Applause',\n",
       " '.)',\n",
       " 'Thank',\n",
       " 'you',\n",
       " 'so',\n",
       " 'much',\n",
       " '.',\n",
       " 'Thank',\n",
       " 'you',\n",
       " '.',\n",
       " 'Everybody',\n",
       " ',',\n",
       " 'please',\n",
       " 'have',\n",
       " 'a',\n",
       " 'seat',\n",
       " '.',\n",
       " 'Thank',\n",
       " 'you',\n",
       " ',',\n",
       " 'President',\n",
       " 'Barchi',\n",
       " ',',\n",
       " 'for',\n",
       " 'that',\n",
       " 'introduction',\n",
       " '.',\n",
       " 'Let',\n",
       " 'me',\n",
       " 'congratulate',\n",
       " 'my',\n",
       " 'extraordinarily',\n",
       " 'worthy',\n",
       " 'fellow',\n",
       " 'honorary',\n",
       " 'Scarlet',\n",
       " 'Knights',\n",
       " ',',\n",
       " 'Dr',\n",
       " '.',\n",
       " 'Burnell',\n",
       " 'and',\n",
       " 'Bill',\n",
       " 'Moyers',\n",
       " '.',\n",
       " 'Matthew',\n",
       " ',',\n",
       " 'good',\n",
       " 'job',\n",
       " '.',\n",
       " '(',\n",
       " 'Applause',\n",
       " '.)',\n",
       " 'If',\n",
       " 'you',\n",
       " 'are',\n",
       " 'interested',\n",
       " ',',\n",
       " 'we',\n",
       " 'can',\n",
       " 'talk',\n",
       " 'after',\n",
       " 'this',\n",
       " '.',\n",
       " '(',\n",
       " 'Applause',\n",
       " '.)',\n",
       " 'One',\n",
       " 'of',\n",
       " 'the',\n",
       " 'perks',\n",
       " 'of',\n",
       " 'my',\n",
       " 'job',\n",
       " 'is',\n",
       " 'honorary',\n",
       " 'degrees',\n",
       " '.',\n",
       " '(',\n",
       " 'Laughter',\n",
       " '.)',\n",
       " 'But',\n",
       " 'I',\n",
       " 'have',\n",
       " 'to',\n",
       " 'tell',\n",
       " 'you',\n",
       " ',',\n",
       " 'it',\n",
       " 'impresses',\n",
       " 'nobody',\n",
       " 'in',\n",
       " 'my',\n",
       " 'house',\n",
       " '.',\n",
       " '(',\n",
       " 'Laughter',\n",
       " '.)',\n",
       " 'Now',\n",
       " 'Malia',\n",
       " 'and',\n",
       " 'Sasha',\n",
       " 'just',\n",
       " 'say',\n",
       " ',',\n",
       " '“',\n",
       " 'Okay',\n",
       " ',',\n",
       " 'Dr',\n",
       " '.',\n",
       " 'Dad',\n",
       " ',',\n",
       " 'we',\n",
       " '’',\n",
       " 'll',\n",
       " 'see',\n",
       " 'you',\n",
       " 'later',\n",
       " '.',\n",
       " 'Can',\n",
       " 'we',\n",
       " 'have',\n",
       " 'some',\n",
       " 'money',\n",
       " '?”',\n",
       " '(',\n",
       " 'Laughter',\n",
       " '.)']"
      ]
     },
     "execution_count": 22,
     "metadata": {},
     "output_type": "execute_result"
    }
   ],
   "source": [
    "words_punct"
   ]
  },
  {
   "cell_type": "markdown",
   "id": "35c9b8d1",
   "metadata": {},
   "source": [
    "# Stemming"
   ]
  },
  {
   "cell_type": "code",
   "execution_count": 23,
   "id": "d3017970",
   "metadata": {},
   "outputs": [],
   "source": [
    "from nltk.stem import PorterStemmer\n",
    "from nltk.corpus import stopwords"
   ]
  },
  {
   "cell_type": "code",
   "execution_count": 28,
   "id": "be8b790d",
   "metadata": {},
   "outputs": [],
   "source": [
    "para = '''It was market-day, and from all the country round Goderville the peasants and their wives were coming toward the town. The men walked slowly, throwing the whole body forward at every step of their long, crooked legs. They were deformed from pushing the plough which makes the left- shoulder higher, and bends their figures side-ways; from reaping the grain, when they have to spread their legs so as to keep on their feet. Their starched blue blouses, glossy as though varnished, ornamented at collar and cuffs with a little embroidered design and blown out around their bony bodies, looked very much like balloons about to soar, whence issued two arms and two feet. '''"
   ]
  },
  {
   "cell_type": "code",
   "execution_count": 29,
   "id": "72b1aec5",
   "metadata": {},
   "outputs": [],
   "source": [
    "sentence = nltk.sent_tokenize(para)\n",
    "stemmer = PorterStemmer()"
   ]
  },
  {
   "cell_type": "code",
   "execution_count": 33,
   "id": "d720e4e6",
   "metadata": {},
   "outputs": [],
   "source": [
    "for i in range(len(sentence)):\n",
    "    words = nltk.word_tokenize(sentence[i])\n",
    "    words = [stemmer.stem(word) for word in words if word not in set(stopwords.words('english'))]\n",
    "    sentence[i] = ' '.join(words) "
   ]
  },
  {
   "cell_type": "code",
   "execution_count": 34,
   "id": "1254fca4",
   "metadata": {},
   "outputs": [
    {
     "data": {
      "text/plain": [
       "['market-day , countri round godervil peasant wive come toward town .',\n",
       " 'men walk slowli , throw whole bodi forward everi step long , crook leg .',\n",
       " 'deform push plough make left- shoulder higher , bend figur side-way ; reap grain , spread leg keep feet .',\n",
       " 'starch blue blou , glossi though varnish , ornament collar cuff littl embroid design blown around boni bodi , look much like balloon soar , whenc issu two arm two feet .']"
      ]
     },
     "execution_count": 34,
     "metadata": {},
     "output_type": "execute_result"
    }
   ],
   "source": [
    "sentence"
   ]
  },
  {
   "cell_type": "markdown",
   "id": "9c11f09e",
   "metadata": {},
   "source": [
    "# Lemmatization "
   ]
  },
  {
   "cell_type": "code",
   "execution_count": 35,
   "id": "d8e0451e",
   "metadata": {},
   "outputs": [],
   "source": [
    "from nltk.stem import WordNetLemmatizer\n",
    "from nltk.corpus import stopwords"
   ]
  },
  {
   "cell_type": "code",
   "execution_count": 36,
   "id": "51f2e69d",
   "metadata": {},
   "outputs": [],
   "source": [
    "para = '''It was market-day, and from all the country round Goderville the peasants and their wives were coming toward the town. The men walked slowly, throwing the whole body forward at every step of their long, crooked legs. They were deformed from pushing the plough which makes the left- shoulder higher, and bends their figures side-ways; from reaping the grain, when they have to spread their legs so as to keep on their feet. Their starched blue blouses, glossy as though varnished, ornamented at collar and cuffs with a little embroidered design and blown out around their bony bodies, looked very much like balloons about to soar, whence issued two arms and two feet.'''"
   ]
  },
  {
   "cell_type": "code",
   "execution_count": 37,
   "id": "d0adfec8",
   "metadata": {},
   "outputs": [],
   "source": [
    "sentence = nltk.sent_tokenize(para)\n",
    "lemmatizer = WordNetLemmatizer()"
   ]
  },
  {
   "cell_type": "code",
   "execution_count": 38,
   "id": "75259b62",
   "metadata": {},
   "outputs": [],
   "source": [
    "for i in range(len(sentence)):\n",
    "    words = nltk.word_tokenize(sentence[i])\n",
    "    words = [lemmatizer.lemmatize(word) for word in words if word not in set(stopwords.words('english'))]\n",
    "    sentence[i] = ' '.join(words)"
   ]
  },
  {
   "cell_type": "code",
   "execution_count": 39,
   "id": "64aaf3e0",
   "metadata": {},
   "outputs": [
    {
     "data": {
      "text/plain": [
       "['It market-day , country round Goderville peasant wife coming toward town .',\n",
       " 'The men walked slowly , throwing whole body forward every step long , crooked leg .',\n",
       " 'They deformed pushing plough make left- shoulder higher , bend figure side-ways ; reaping grain , spread leg keep foot .',\n",
       " 'Their starched blue blouse , glossy though varnished , ornamented collar cuff little embroidered design blown around bony body , looked much like balloon soar , whence issued two arm two foot .']"
      ]
     },
     "execution_count": 39,
     "metadata": {},
     "output_type": "execute_result"
    }
   ],
   "source": [
    "sentence"
   ]
  },
  {
   "cell_type": "code",
   "execution_count": null,
   "id": "3b6acbf1",
   "metadata": {},
   "outputs": [],
   "source": []
  }
 ],
 "metadata": {
  "kernelspec": {
   "display_name": "Python 3 (ipykernel)",
   "language": "python",
   "name": "python3"
  },
  "language_info": {
   "codemirror_mode": {
    "name": "ipython",
    "version": 3
   },
   "file_extension": ".py",
   "mimetype": "text/x-python",
   "name": "python",
   "nbconvert_exporter": "python",
   "pygments_lexer": "ipython3",
   "version": "3.9.7"
  }
 },
 "nbformat": 4,
 "nbformat_minor": 5
}
